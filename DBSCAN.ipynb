{
  "nbformat": 4,
  "nbformat_minor": 0,
  "metadata": {
    "colab": {
      "name": "DBSCAN.ipynb",
      "provenance": [],
      "collapsed_sections": [],
      "include_colab_link": true
    },
    "kernelspec": {
      "name": "python3",
      "display_name": "Python 3"
    }
  },
  "cells": [
    {
      "cell_type": "markdown",
      "metadata": {
        "id": "view-in-github",
        "colab_type": "text"
      },
      "source": [
        "<a href=\"https://colab.research.google.com/github/Asuskf/DBSCAN/blob/master/DBSCAN.ipynb\" target=\"_parent\"><img src=\"https://colab.research.google.com/assets/colab-badge.svg\" alt=\"Open In Colab\"/></a>"
      ]
    },
    {
      "cell_type": "code",
      "metadata": {
        "id": "xq0NsY5pYgxw",
        "colab_type": "code",
        "colab": {
          "base_uri": "https://localhost:8080/",
          "height": 314
        },
        "outputId": "3b85169a-8dc8-4830-e124-2b02e8d873eb"
      },
      "source": [
        "!pip install googledrivedownloader\n",
        "!pip install simpledbf\n",
        "!pip install geopandas"
      ],
      "execution_count": 19,
      "outputs": [
        {
          "output_type": "stream",
          "text": [
            "Requirement already satisfied: googledrivedownloader in /usr/local/lib/python3.6/dist-packages (0.4)\n",
            "Requirement already satisfied: simpledbf in /usr/local/lib/python3.6/dist-packages (0.2.6)\n",
            "Requirement already satisfied: geopandas in /usr/local/lib/python3.6/dist-packages (0.8.1)\n",
            "Requirement already satisfied: pandas>=0.23.0 in /usr/local/lib/python3.6/dist-packages (from geopandas) (1.0.5)\n",
            "Requirement already satisfied: fiona in /usr/local/lib/python3.6/dist-packages (from geopandas) (1.8.13.post1)\n",
            "Requirement already satisfied: pyproj>=2.2.0 in /usr/local/lib/python3.6/dist-packages (from geopandas) (2.6.1.post1)\n",
            "Requirement already satisfied: shapely in /usr/local/lib/python3.6/dist-packages (from geopandas) (1.7.0)\n",
            "Requirement already satisfied: python-dateutil>=2.6.1 in /usr/local/lib/python3.6/dist-packages (from pandas>=0.23.0->geopandas) (2.8.1)\n",
            "Requirement already satisfied: numpy>=1.13.3 in /usr/local/lib/python3.6/dist-packages (from pandas>=0.23.0->geopandas) (1.18.5)\n",
            "Requirement already satisfied: pytz>=2017.2 in /usr/local/lib/python3.6/dist-packages (from pandas>=0.23.0->geopandas) (2018.9)\n",
            "Requirement already satisfied: six>=1.7 in /usr/local/lib/python3.6/dist-packages (from fiona->geopandas) (1.15.0)\n",
            "Requirement already satisfied: click-plugins>=1.0 in /usr/local/lib/python3.6/dist-packages (from fiona->geopandas) (1.1.1)\n",
            "Requirement already satisfied: attrs>=17 in /usr/local/lib/python3.6/dist-packages (from fiona->geopandas) (19.3.0)\n",
            "Requirement already satisfied: cligj>=0.5 in /usr/local/lib/python3.6/dist-packages (from fiona->geopandas) (0.5.0)\n",
            "Requirement already satisfied: munch in /usr/local/lib/python3.6/dist-packages (from fiona->geopandas) (2.5.0)\n",
            "Requirement already satisfied: click<8,>=4.0 in /usr/local/lib/python3.6/dist-packages (from fiona->geopandas) (7.1.2)\n"
          ],
          "name": "stdout"
        }
      ]
    },
    {
      "cell_type": "code",
      "metadata": {
        "id": "cZL6TIiHZYFz",
        "colab_type": "code",
        "colab": {}
      },
      "source": [
        "import pandas as pd\n",
        "from google_drive_downloader import GoogleDriveDownloader as gdd\n",
        "from simpledbf import Dbf5\n",
        "import geopandas as gpd\n",
        "import numpy as np \n",
        "import matplotlib.pyplot as plt\n",
        "import pandas as pd, numpy as np, matplotlib.pyplot as plt\n",
        "from sklearn.cluster import DBSCAN\n",
        "from geopy.distance import great_circle\n",
        "from shapely.geometry import MultiPoint"
      ],
      "execution_count": 20,
      "outputs": []
    },
    {
      "cell_type": "code",
      "metadata": {
        "id": "n0wiKDMqZNrx",
        "colab_type": "code",
        "colab": {
          "base_uri": "https://localhost:8080/",
          "height": 54
        },
        "outputId": "304ed700-c132-4a85-bfbd-2f86f5262b54"
      },
      "source": [
        "gdd.download_file_from_google_drive(file_id='1THOK61fWZpszf1tbNrcnBtTGL7QVeme4',\n",
        "                                    dest_path='./data/1.zip',\n",
        "                                    unzip=True)"
      ],
      "execution_count": 21,
      "outputs": [
        {
          "output_type": "stream",
          "text": [
            "Downloading 1THOK61fWZpszf1tbNrcnBtTGL7QVeme4 into ./data/1.zip... Done.\n",
            "Unzipping...Done.\n"
          ],
          "name": "stdout"
        }
      ]
    },
    {
      "cell_type": "code",
      "metadata": {
        "id": "FoIlU6SnZQj8",
        "colab_type": "code",
        "colab": {}
      },
      "source": [
        "!rm ./data/1.zip"
      ],
      "execution_count": 22,
      "outputs": []
    },
    {
      "cell_type": "code",
      "metadata": {
        "id": "nsuZg87VZkuS",
        "colab_type": "code",
        "colab": {}
      },
      "source": [
        "dbf0 = Dbf5('./data/Intersec Seg_14.dbf')\n",
        "dbf1 = Dbf5('./data/Intersec Seg_15.dbf')"
      ],
      "execution_count": 23,
      "outputs": []
    },
    {
      "cell_type": "code",
      "metadata": {
        "id": "qtQi68eCa1Iy",
        "colab_type": "code",
        "colab": {}
      },
      "source": [
        "df0 = dbf0.to_dataframe()\n",
        "df1 = dbf1.to_dataframe()"
      ],
      "execution_count": 24,
      "outputs": []
    },
    {
      "cell_type": "code",
      "metadata": {
        "id": "KKSKPB75a5wX",
        "colab_type": "code",
        "colab": {
          "base_uri": "https://localhost:8080/",
          "height": 277
        },
        "outputId": "465ed8eb-33f8-40ee-bec5-15105d2e50fd"
      },
      "source": [
        "print(df0)"
      ],
      "execution_count": 25,
      "outputs": [
        {
          "output_type": "stream",
          "text": [
            "      FID_ROBOPE  FECHA_DENU DIRECCION_  ... BARRIO_ID     Lat_y     Long_x\n",
            "0           7844  2014-12-29        NaN  ...  10010023 -0.406807 -78.501287\n",
            "1           3840  2014-07-01        NaN  ...  10010030 -0.382786 -78.507353\n",
            "2           1225  2014-02-24        NaN  ...  10010030 -0.382786 -78.507353\n",
            "3           6771  2014-11-14        NaN  ...  10010030 -0.382786 -78.507353\n",
            "4           7637  2014-12-19        NaN  ...  10010030 -0.382786 -78.507353\n",
            "...          ...         ...        ...  ...       ...       ...        ...\n",
            "8044        6788  2014-11-15        NaN  ...  05080021  0.025231 -78.452118\n",
            "8045        6842  2014-11-18        NaN  ...  05080021  0.025231 -78.452118\n",
            "8046        3399  2014-06-10        NaN  ...  06010004  0.062206 -78.681690\n",
            "8047        5154  2014-09-02        NaN  ...  06040012  0.143781 -78.766895\n",
            "8048        7238  2014-12-04        NaN  ...  06040004  0.177097 -78.777489\n",
            "\n",
            "[8049 rows x 22 columns]\n"
          ],
          "name": "stdout"
        }
      ]
    },
    {
      "cell_type": "code",
      "metadata": {
        "id": "y19nTpb4bCTJ",
        "colab_type": "code",
        "colab": {
          "base_uri": "https://localhost:8080/",
          "height": 277
        },
        "outputId": "03f3b9da-77b2-44db-aa2d-a5cd603f08f0"
      },
      "source": [
        "print(df1)"
      ],
      "execution_count": 26,
      "outputs": [
        {
          "output_type": "stream",
          "text": [
            "      FID_ROBOPE  FECHA_DENU  ...     Lat_y     Long_x\n",
            "0           1089  2015-02-25  ... -0.400815 -78.472150\n",
            "1            933  2015-02-17  ... -0.379236 -78.499077\n",
            "2           1281  2015-03-06  ... -0.377219 -78.480028\n",
            "3           1238  2015-03-04  ... -0.376291 -78.506284\n",
            "4           2650  2015-05-08  ... -0.376291 -78.506284\n",
            "...          ...         ...  ...       ...        ...\n",
            "3627        1218  2015-03-03  ...  0.108128 -78.709254\n",
            "3628        2246  2015-04-17  ...  0.108128 -78.709254\n",
            "3629        1327  2015-03-09  ...  0.134497 -78.370831\n",
            "3630        3176  2015-06-08  ...  0.143781 -78.766895\n",
            "3631        1156  2015-02-28  ...  0.216790 -78.584616\n",
            "\n",
            "[3632 rows x 22 columns]\n"
          ],
          "name": "stdout"
        }
      ]
    },
    {
      "cell_type": "code",
      "metadata": {
        "id": "R9rNXoh1bHQ7",
        "colab_type": "code",
        "colab": {}
      },
      "source": [
        "result = pd.concat([df0, df1], axis=0)"
      ],
      "execution_count": 27,
      "outputs": []
    },
    {
      "cell_type": "code",
      "metadata": {
        "id": "4EBKnMArcNyy",
        "colab_type": "code",
        "colab": {
          "base_uri": "https://localhost:8080/",
          "height": 277
        },
        "outputId": "ea51a967-5622-4276-ac5c-e2fdbd0e7168"
      },
      "source": [
        "print(result)"
      ],
      "execution_count": 28,
      "outputs": [
        {
          "output_type": "stream",
          "text": [
            "      FID_ROBOPE  FECHA_DENU  ...     Lat_y     Long_x\n",
            "0           7844  2014-12-29  ... -0.406807 -78.501287\n",
            "1           3840  2014-07-01  ... -0.382786 -78.507353\n",
            "2           1225  2014-02-24  ... -0.382786 -78.507353\n",
            "3           6771  2014-11-14  ... -0.382786 -78.507353\n",
            "4           7637  2014-12-19  ... -0.382786 -78.507353\n",
            "...          ...         ...  ...       ...        ...\n",
            "3627        1218  2015-03-03  ...  0.108128 -78.709254\n",
            "3628        2246  2015-04-17  ...  0.108128 -78.709254\n",
            "3629        1327  2015-03-09  ...  0.134497 -78.370831\n",
            "3630        3176  2015-06-08  ...  0.143781 -78.766895\n",
            "3631        1156  2015-02-28  ...  0.216790 -78.584616\n",
            "\n",
            "[11681 rows x 22 columns]\n"
          ],
          "name": "stdout"
        }
      ]
    },
    {
      "cell_type": "code",
      "metadata": {
        "id": "CqUT9qd7cU7Y",
        "colab_type": "code",
        "colab": {}
      },
      "source": [
        "result = result.drop(columns=['FECHA_DEL_','TipoDeRobo', 'FECHA_DENU', 'FID_ROBOPE',  'DIRECCION_', \n",
        "                              'Horario',  'TIPO_DE_AG', 'Masculino', 'Femenino', 'Administra', 'Barrio', \n",
        "                              'Parroquia', 'Urbana_Rur', 'Lugar','FID_Barrio', 'NOMBRE', 'BARRIO_ID', 'X', 'Y'])"
      ],
      "execution_count": 29,
      "outputs": []
    },
    {
      "cell_type": "code",
      "metadata": {
        "id": "Tpjd84F1l_IA",
        "colab_type": "code",
        "colab": {
          "base_uri": "https://localhost:8080/",
          "height": 277
        },
        "outputId": "c8280c4c-f24c-437f-a07c-f6b210a095ab"
      },
      "source": [
        "print(result)"
      ],
      "execution_count": 30,
      "outputs": [
        {
          "output_type": "stream",
          "text": [
            "                   Modus     Lat_y     Long_x\n",
            "0              HALADORES -0.406807 -78.501287\n",
            "1           ASALTO COMÚN -0.382786 -78.507353\n",
            "2           ASALTO COMÚN -0.382786 -78.507353\n",
            "3     SUSTANCIAS EST.PSI -0.382786 -78.507353\n",
            "4               SIN DATO -0.382786 -78.507353\n",
            "...                  ...       ...        ...\n",
            "3627            SIN DATO  0.108128 -78.709254\n",
            "3628            SIN DATO  0.108128 -78.709254\n",
            "3629        ASALTO COMÚN  0.134497 -78.370831\n",
            "3630        ESTRUCHANTES  0.143781 -78.766895\n",
            "3631            SIN DATO  0.216790 -78.584616\n",
            "\n",
            "[11681 rows x 3 columns]\n"
          ],
          "name": "stdout"
        }
      ]
    },
    {
      "cell_type": "code",
      "metadata": {
        "id": "ar3FP5Gmmcb0",
        "colab_type": "code",
        "colab": {}
      },
      "source": [
        "result = result.replace({'HALADORES':1, 'ASALTO COMÚN':2, 'SUSTANCIAS EST.PSI':3,\n",
        "                        'CARTERISTAS':4, 'LANZAS':5, 'ESTRUCHANTES':6, 'ROBO EXPRESS':7,\n",
        "                        'SACA PINTAS':8, 'ARRANCHADORES':9, 'OTROS':10, 'ROTURA DE VIDRIOS':11, 'DULCES SUEÑOS':12, 'SIN DATO':13})"
      ],
      "execution_count": 31,
      "outputs": []
    },
    {
      "cell_type": "code",
      "metadata": {
        "id": "_MtdowzBn66I",
        "colab_type": "code",
        "colab": {
          "base_uri": "https://localhost:8080/",
          "height": 277
        },
        "outputId": "a135812d-184b-49a1-d23d-7c57afbcf13e"
      },
      "source": [
        "print(result)"
      ],
      "execution_count": 32,
      "outputs": [
        {
          "output_type": "stream",
          "text": [
            "      Modus     Lat_y     Long_x\n",
            "0         1 -0.406807 -78.501287\n",
            "1         2 -0.382786 -78.507353\n",
            "2         2 -0.382786 -78.507353\n",
            "3         3 -0.382786 -78.507353\n",
            "4        13 -0.382786 -78.507353\n",
            "...     ...       ...        ...\n",
            "3627     13  0.108128 -78.709254\n",
            "3628     13  0.108128 -78.709254\n",
            "3629      2  0.134497 -78.370831\n",
            "3630      6  0.143781 -78.766895\n",
            "3631     13  0.216790 -78.584616\n",
            "\n",
            "[11681 rows x 3 columns]\n"
          ],
          "name": "stdout"
        }
      ]
    },
    {
      "cell_type": "code",
      "metadata": {
        "id": "UA5neSrWp8Ez",
        "colab_type": "code",
        "colab": {}
      },
      "source": [
        "coords = result[['Lat_y','Long_x']].to_numpy()"
      ],
      "execution_count": 33,
      "outputs": []
    },
    {
      "cell_type": "code",
      "metadata": {
        "id": "HYjaBz94Rl4B",
        "colab_type": "code",
        "colab": {
          "base_uri": "https://localhost:8080/",
          "height": 147
        },
        "outputId": "771e1920-4998-4d6e-d5a1-d7182cf716cf"
      },
      "source": [
        "df = pd.DataFrame(result, columns=['Lat_y','Long_x'])\n",
        "df.to_csv(r'coordenadas.csv')\n",
        "print(coords)"
      ],
      "execution_count": 34,
      "outputs": [
        {
          "output_type": "stream",
          "text": [
            "[[ -0.40680749 -78.50128685]\n",
            " [ -0.38278557 -78.50735258]\n",
            " [ -0.38278557 -78.50735258]\n",
            " ...\n",
            " [  0.13449717 -78.3708306 ]\n",
            " [  0.14378128 -78.76689452]\n",
            " [  0.21679023 -78.58461591]]\n"
          ],
          "name": "stdout"
        }
      ]
    },
    {
      "cell_type": "code",
      "metadata": {
        "id": "wh3rN9bvRr8Q",
        "colab_type": "code",
        "colab": {
          "base_uri": "https://localhost:8080/",
          "height": 36
        },
        "outputId": "52453880-42f1-4b26-831e-679735e00ecb"
      },
      "source": [
        "kms_per_radian = 11550.0088 \n",
        "epsilon = 1 / kms_per_radian\n",
        "db = DBSCAN(eps=epsilon, min_samples=1, algorithm='ball_tree', metric='haversine').fit(np.radians(coords))\n",
        "cluster_labels = db.labels_\n",
        "num_clusters = len(set(cluster_labels))\n",
        "clusters = pd.Series([coords[cluster_labels == n] for n in range(num_clusters)])\n",
        "print('Number of clusters: {}'.format(num_clusters))"
      ],
      "execution_count": 35,
      "outputs": [
        {
          "output_type": "stream",
          "text": [
            "Number of clusters: 387\n"
          ],
          "name": "stdout"
        }
      ]
    },
    {
      "cell_type": "code",
      "metadata": {
        "id": "4aW2AVfwGfW5",
        "colab_type": "code",
        "colab": {
          "base_uri": "https://localhost:8080/",
          "height": 240
        },
        "outputId": "543ae379-7c1b-49d9-bf47-f140a4ff3abc"
      },
      "source": [
        "clusters.to_json(r'closterf.json')\n",
        "print(clusters)"
      ],
      "execution_count": 36,
      "outputs": [
        {
          "output_type": "stream",
          "text": [
            "0                    [[-0.406807485395, -78.5012868512]]\n",
            "1      [[-0.382785571337, -78.5073525778], [-0.382785...\n",
            "2      [[-0.379235633437, -78.4990769958], [-0.379235...\n",
            "3      [[-0.376290657033, -78.50628365], [-0.37629065...\n",
            "4      [[-0.373000959654, -78.4929430117], [-0.373000...\n",
            "                             ...                        \n",
            "382                 [[0.00624438307739, -78.5676161095]]\n",
            "383                    [[0.10029168023, -78.7516172272]]\n",
            "384    [[0.108128305445, -78.7092544213], [0.10812830...\n",
            "385                   [[0.134497167286, -78.3708305951]]\n",
            "386                   [[0.216790228459, -78.5846159117]]\n",
            "Length: 387, dtype: object\n"
          ],
          "name": "stdout"
        }
      ]
    },
    {
      "cell_type": "code",
      "metadata": {
        "id": "1tDTTpHZV4JU",
        "colab_type": "code",
        "colab": {}
      },
      "source": [
        "def get_centermost_point(cluster):\n",
        "    centroid = (MultiPoint(cluster).centroid.x, MultiPoint(cluster).centroid.y)\n",
        "    centermost_point = min(cluster, key=lambda point: great_circle(point, centroid).m)\n",
        "    return tuple(centermost_point)\n",
        "centermost_points = clusters.map(get_centermost_point)"
      ],
      "execution_count": 37,
      "outputs": []
    },
    {
      "cell_type": "code",
      "metadata": {
        "id": "WhDpRoa9XAzB",
        "colab_type": "code",
        "colab": {}
      },
      "source": [
        "lats, lons = zip(*centermost_points)\n",
        "rep_points = pd.DataFrame({'Long_x':lons, 'Lat_y':lats})\n"
      ],
      "execution_count": 38,
      "outputs": []
    },
    {
      "cell_type": "code",
      "metadata": {
        "id": "g2WQu805aavK",
        "colab_type": "code",
        "colab": {
          "base_uri": "https://localhost:8080/",
          "height": 277
        },
        "outputId": "31cd6be1-5c82-47a8-abb1-8a61c217e75b"
      },
      "source": [
        "print(rep_points)"
      ],
      "execution_count": 39,
      "outputs": [
        {
          "output_type": "stream",
          "text": [
            "        Long_x     Lat_y\n",
            "0   -78.501287 -0.406807\n",
            "1   -78.507353 -0.382786\n",
            "2   -78.499077 -0.379236\n",
            "3   -78.506284 -0.376291\n",
            "4   -78.492943 -0.373001\n",
            "..         ...       ...\n",
            "382 -78.567616  0.006244\n",
            "383 -78.751617  0.100292\n",
            "384 -78.709254  0.108128\n",
            "385 -78.370831  0.134497\n",
            "386 -78.584616  0.216790\n",
            "\n",
            "[387 rows x 2 columns]\n"
          ],
          "name": "stdout"
        }
      ]
    },
    {
      "cell_type": "code",
      "metadata": {
        "id": "V9Q6vJ_2XDI2",
        "colab_type": "code",
        "colab": {}
      },
      "source": [
        "rs = rep_points.apply(lambda row: result[(result['Lat_y']==row['Lat_y'])].iloc[0], axis=1)"
      ],
      "execution_count": 40,
      "outputs": []
    },
    {
      "cell_type": "code",
      "metadata": {
        "id": "Y7edQuwFaHL3",
        "colab_type": "code",
        "colab": {
          "base_uri": "https://localhost:8080/",
          "height": 258
        },
        "outputId": "bd38eedb-fb53-4bb8-b2c9-ad6e7f412bdb"
      },
      "source": [
        "print(result.groupby('Lat_y').size())"
      ],
      "execution_count": 41,
      "outputs": [
        {
          "output_type": "stream",
          "text": [
            "Lat_y\n",
            "-0.406807    1\n",
            "-0.400815    1\n",
            "-0.382786    7\n",
            "-0.379236    3\n",
            "-0.377219    1\n",
            "            ..\n",
            " 0.108128    2\n",
            " 0.134497    1\n",
            " 0.143781    2\n",
            " 0.177097    1\n",
            " 0.216790    1\n",
            "Length: 708, dtype: int64\n"
          ],
          "name": "stdout"
        }
      ]
    },
    {
      "cell_type": "code",
      "metadata": {
        "id": "JWp1HC58XErz",
        "colab_type": "code",
        "colab": {
          "base_uri": "https://localhost:8080/",
          "height": 404
        },
        "outputId": "526e4ab9-d14a-42fc-a2c2-75ec0e8ed463"
      },
      "source": [
        "fig, ax = plt.subplots(figsize=[10, 6])\n",
        "rs_scatter = ax.scatter(rs['Long_x'], rs['Lat_y'], c='#99cc99', edgecolor='None', alpha=0.7, s=120)\n",
        "df_scatter = ax.scatter(result['Long_x'], result['Lat_y'], c='k', alpha=0.9, s=3)\n",
        "ax.set_title('Full data set vs DBSCAN reduced set')\n",
        "ax.set_xlabel('Longitude')\n",
        "ax.set_ylabel('Latitude')\n",
        "ax.legend([df_scatter, rs_scatter], ['Full set', 'Reduced set'], loc='upper right')\n",
        "plt.show()"
      ],
      "execution_count": 42,
      "outputs": [
        {
          "output_type": "display_data",
          "data": {
            "image/png": "[encoded data removed]",
            "text/plain": [
              "<Figure size 720x432 with 1 Axes>"
            ]
          },
          "metadata": {
            "tags": [],
            "needs_background": "light"
          }
        }
      ]
    },
    {
      "cell_type": "code",
      "metadata": {
        "id": "IEkT2oNPZ7S_",
        "colab_type": "code",
        "colab": {
          "base_uri": "https://localhost:8080/",
          "height": 277
        },
        "outputId": "27e008f2-42ef-4384-cb05-de00f54723fe"
      },
      "source": [
        "df = pd.DataFrame(rs, columns=['Lat_y', 'Long_x'])\n",
        "print(df)"
      ],
      "execution_count": 43,
      "outputs": [
        {
          "output_type": "stream",
          "text": [
            "        Lat_y     Long_x\n",
            "0   -0.406807 -78.501287\n",
            "1   -0.382786 -78.507353\n",
            "2   -0.379236 -78.499077\n",
            "3   -0.376291 -78.506284\n",
            "4   -0.373001 -78.492943\n",
            "..        ...        ...\n",
            "382  0.006244 -78.567616\n",
            "383  0.100292 -78.751617\n",
            "384  0.108128 -78.709254\n",
            "385  0.134497 -78.370831\n",
            "386  0.216790 -78.584616\n",
            "\n",
            "[387 rows x 2 columns]\n"
          ],
          "name": "stdout"
        }
      ]
    },
    {
      "cell_type": "code",
      "metadata": {
        "id": "3lhp8wCYEt2g",
        "colab_type": "code",
        "colab": {
          "base_uri": "https://localhost:8080/",
          "height": 334
        },
        "outputId": "7dcfc84f-e617-420a-c1fa-02ebde3f2a61"
      },
      "source": [
        "from geopandas import GeoDataFrame\n",
        "from shapely.geometry import Point\n",
        "\n",
        "geometry = [Point(xy) for xy in zip(df['Long_x'], df['Lat_y'])]\n",
        "df = df.drop(['Long_x', 'Lat_y'], axis=1)\n",
        "crs = {'init': 'epsg:4326'}\n",
        "gdf = GeoDataFrame(df, crs=crs, geometry=geometry)\n",
        "\n",
        "\n",
        "print(gdf)"
      ],
      "execution_count": 44,
      "outputs": [
        {
          "output_type": "stream",
          "text": [
            "                       geometry\n",
            "0    POINT (-78.50129 -0.40681)\n",
            "1    POINT (-78.50735 -0.38279)\n",
            "2    POINT (-78.49908 -0.37924)\n",
            "3    POINT (-78.50628 -0.37629)\n",
            "4    POINT (-78.49294 -0.37300)\n",
            "..                          ...\n",
            "382   POINT (-78.56762 0.00624)\n",
            "383   POINT (-78.75162 0.10029)\n",
            "384   POINT (-78.70925 0.10813)\n",
            "385   POINT (-78.37083 0.13450)\n",
            "386   POINT (-78.58462 0.21679)\n",
            "\n",
            "[387 rows x 1 columns]\n"
          ],
          "name": "stdout"
        },
        {
          "output_type": "stream",
          "text": [
            "/usr/local/lib/python3.6/dist-packages/pyproj/crs/crs.py:53: FutureWarning: '+init=<authority>:<code>' syntax is deprecated. '<authority>:<code>' is the preferred initialization method. When making the change, be mindful of axis order changes: https://pyproj4.github.io/pyproj/stable/gotchas.html#axis-order-changes-in-proj-6\n",
            "  return _prepare_from_string(\" \".join(pjargs))\n"
          ],
          "name": "stderr"
        }
      ]
    },
    {
      "cell_type": "code",
      "metadata": {
        "id": "dLjWAqSLbb8Z",
        "colab_type": "code",
        "colab": {}
      },
      "source": [
        ""
      ],
      "execution_count": 44,
      "outputs": []
    }
  ]
}